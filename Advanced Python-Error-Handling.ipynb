{
 "cells": [
  {
   "cell_type": "code",
   "execution_count": 2,
   "id": "5af5a570",
   "metadata": {},
   "outputs": [
    {
     "name": "stdout",
     "output_type": "stream",
     "text": [
      "what is your age? Itamar\n",
      "please enter a number\n",
      "ok, I am finally done\n",
      "what is your age? 0\n",
      "please enter age higher than 0\n",
      "ok, I am finally done\n"
     ]
    }
   ],
   "source": [
    "#Error Handling\n",
    "\n",
    "while True:\n",
    "    try:\n",
    "        age = int(input('what is your age? '))\n",
    "        10/age\n",
    "    except ValueError:\n",
    "        print('please enter a number')\n",
    "        continue\n",
    "    except ZeroDivisionError:\n",
    "        print('please enter age higher than 0')\n",
    "        break\n",
    "    else:\n",
    "        print('thank you!')\n",
    "    finally:\n",
    "        print('ok, I am finally done')\n",
    "    print('can you hear me?')"
   ]
  },
  {
   "cell_type": "code",
   "execution_count": 3,
   "id": "4089ceb3",
   "metadata": {},
   "outputs": [
    {
     "ename": "SyntaxError",
     "evalue": "invalid syntax (3339978699.py, line 7)",
     "output_type": "error",
     "traceback": [
      "\u001b[1;36m  File \u001b[1;32m\"C:\\Users\\16476\\AppData\\Local\\Temp\\ipykernel_32788\\3339978699.py\"\u001b[1;36m, line \u001b[1;32m7\u001b[0m\n\u001b[1;33m    raise Exception('hey cut it out'):\u001b[0m\n\u001b[1;37m                                     ^\u001b[0m\n\u001b[1;31mSyntaxError\u001b[0m\u001b[1;31m:\u001b[0m invalid syntax\n"
     ]
    }
   ],
   "source": [
    "#Error Handling\n",
    "\n",
    "while True:\n",
    "    try:\n",
    "        age = int(input('what is your age? '))\n",
    "        10/age\n",
    "        raise Exception('hey cut it out'):\n",
    "    except ZeroDivisionError:\n",
    "        print('please enter age higher than 0')\n",
    "        break\n",
    "    else:\n",
    "        print('thank you!')\n",
    "    finally:\n",
    "        print('ok, I am finally done')\n",
    "    print('can you hear me?')"
   ]
  },
  {
   "cell_type": "code",
   "execution_count": null,
   "id": "b9ddfb2b",
   "metadata": {},
   "outputs": [],
   "source": []
  }
 ],
 "metadata": {
  "kernelspec": {
   "display_name": "Python 3 (ipykernel)",
   "language": "python",
   "name": "python3"
  },
  "language_info": {
   "codemirror_mode": {
    "name": "ipython",
    "version": 3
   },
   "file_extension": ".py",
   "mimetype": "text/x-python",
   "name": "python",
   "nbconvert_exporter": "python",
   "pygments_lexer": "ipython3",
   "version": "3.9.13"
  }
 },
 "nbformat": 4,
 "nbformat_minor": 5
}
